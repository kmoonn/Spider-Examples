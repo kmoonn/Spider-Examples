{
 "cells": [
  {
   "cell_type": "code",
   "id": "initial_id",
   "metadata": {
    "collapsed": true,
    "ExecuteTime": {
     "end_time": "2025-05-16T09:28:12.001300Z",
     "start_time": "2025-05-16T09:28:11.998180Z"
    }
   },
   "source": [
    "import requests\n",
    "import time\n",
    "from pprint import pprint\n",
    "import pandas as pd"
   ],
   "outputs": [],
   "execution_count": 106
  },
  {
   "metadata": {
    "ExecuteTime": {
     "end_time": "2025-05-16T09:31:54.492828Z",
     "start_time": "2025-05-16T09:31:54.258678Z"
    }
   },
   "cell_type": "code",
   "source": [
    "def get_id_list(pageNumber):\n",
    "    url = 'https://www.nstl.gov.cn/api/service/nstl/web/execute?target=nstl4.search4&function=paper/pc/list/pl'\n",
    "    headers = {\n",
    "        'User-Agent': 'Mozilla/5.0 (Windows NT 10.0; Win64; x64) AppleWebKit/537.36 (KHTML, like Gecko) Chrome/130.0.0.0 Safari/537.36',\n",
    "    }\n",
    "    data  = {\n",
    "  'query': '{\"c\":10,\"st\":\"0\",\"f\":[],\"p\":\"\",\"q\":[{\"k\":\"uni_s\",\"a\":1,\"o\":\"\",\"f\":1,\"v\":\"\\u4E2D\\u56FD\\u79D1\\u5B66\\u9662\\u5927\\u5B66\"},{\"k\":\"yea\",\"a\":1,\"o\":\"\",\"f\":1,\"v\":\"2022\"}],\"op\":\"AND\",\"s\":[\"nstl\",\"haveAbsAuK:desc\",\"yea:desc\",\"score\"],\"t\":[\"DegreePaper\"]}',\n",
    "  'webDisplayId': '11',\n",
    "  'sl': '1',\n",
    "  'searchWordId': 'e380808e48fd873dd19c006d7a8501a3',\n",
    "  'searchId': 'ca4b4bb73d24187981ce7e06b18a472d',\n",
    "  'facetRelation': '[{\"id\":\"a7e9bfe0358d69e152389c5c412eecc3\",\"sequence\":3,\"field\":\"uni_s\",\"name\":\"\\u9662\\u6821\",\"value\":\"\\u4E2D\\u56FD\\u79D1\\u5B66\\u9662\\u5927\\u5B66\"},{\"id\":\"c5612153a3c2a990483a48e5573f2c6e\",\"sequence\":2,\"field\":\"yea\",\"name\":\"\\u5E74\\u4EFD\",\"value\":\"2022\"}]',\n",
    "  'pageSize': '10',\n",
    "  'pageNumber': f'{pageNumber}'\n",
    "}\n",
    "    response = requests.post(url,headers=headers,data = data).json()\n",
    "    data_list = response['data']\n",
    "    id_list = [data[0]['v'] for data in data_list]\n",
    "    return id_list"
   ],
   "id": "a7c69a162c4db8ff",
   "outputs": [
    {
     "name": "stdout",
     "output_type": "stream",
     "text": [
      "<Response [302]>\n"
     ]
    },
    {
     "ename": "TypeError",
     "evalue": "'Response' object is not subscriptable",
     "output_type": "error",
     "traceback": [
      "\u001B[31m---------------------------------------------------------------------------\u001B[39m",
      "\u001B[31mTypeError\u001B[39m                                 Traceback (most recent call last)",
      "\u001B[36mCell\u001B[39m\u001B[36m \u001B[39m\u001B[32mIn[119]\u001B[39m\u001B[32m, line 22\u001B[39m\n\u001B[32m     19\u001B[39m     id_list = [data[\u001B[32m0\u001B[39m][\u001B[33m'\u001B[39m\u001B[33mv\u001B[39m\u001B[33m'\u001B[39m] \u001B[38;5;28;01mfor\u001B[39;00m data \u001B[38;5;129;01min\u001B[39;00m data_list]\n\u001B[32m     20\u001B[39m     \u001B[38;5;28;01mreturn\u001B[39;00m id_list\n\u001B[32m---> \u001B[39m\u001B[32m22\u001B[39m id_list = \u001B[43mget_id_list\u001B[49m\u001B[43m(\u001B[49m\u001B[43m)\u001B[49m\n\u001B[32m     23\u001B[39m id_list\n",
      "\u001B[36mCell\u001B[39m\u001B[36m \u001B[39m\u001B[32mIn[119]\u001B[39m\u001B[32m, line 18\u001B[39m, in \u001B[36mget_id_list\u001B[39m\u001B[34m()\u001B[39m\n\u001B[32m     16\u001B[39m response = requests.post(url,headers=headers,data = data)\n\u001B[32m     17\u001B[39m \u001B[38;5;28mprint\u001B[39m(response)\n\u001B[32m---> \u001B[39m\u001B[32m18\u001B[39m data_list = \u001B[43mresponse\u001B[49m\u001B[43m[\u001B[49m\u001B[33;43m'\u001B[39;49m\u001B[33;43mdata\u001B[39;49m\u001B[33;43m'\u001B[39;49m\u001B[43m]\u001B[49m\n\u001B[32m     19\u001B[39m id_list = [data[\u001B[32m0\u001B[39m][\u001B[33m'\u001B[39m\u001B[33mv\u001B[39m\u001B[33m'\u001B[39m] \u001B[38;5;28;01mfor\u001B[39;00m data \u001B[38;5;129;01min\u001B[39;00m data_list]\n\u001B[32m     20\u001B[39m \u001B[38;5;28;01mreturn\u001B[39;00m id_list\n",
      "\u001B[31mTypeError\u001B[39m: 'Response' object is not subscriptable"
     ]
    }
   ],
   "execution_count": 119
  },
  {
   "metadata": {
    "ExecuteTime": {
     "end_time": "2025-05-16T09:28:14.416351Z",
     "start_time": "2025-05-16T09:28:14.411279Z"
    }
   },
   "cell_type": "code",
   "source": [
    "def get_info(id):\n",
    "    url = 'https://www.nstl.gov.cn/api/service/nstl/web/execute?target=nstl4.search4&function=paper/pc/detail'\n",
    "    headers = {\n",
    "        'Accept': 'application/json, text/javascript, */*; q=0.01',\n",
    "        'Accept-Language': 'zh-CN,zh;q=0.9',\n",
    "        'Cache-Control': 'no-cache',\n",
    "        'Connection': 'keep-alive',\n",
    "        'Content-Type': 'application/x-www-form-urlencoded; charset=UTF-8',\n",
    "        'Origin': 'https://www.nstl.gov.cn',\n",
    "        'Pragma': 'no-cache',\n",
    "        'Referer': 'https://www.nstl.gov.cn/paper_detail.html?id=49eca30cf784e72e5dd259fc789bc898',\n",
    "        'Sec-Fetch-Dest': 'empty',\n",
    "        'Sec-Fetch-Mode': 'cors',\n",
    "        'Sec-Fetch-Site': 'same-origin',\n",
    "        'User-Agent': 'Mozilla/5.0 (Windows NT 10.0; Win64; x64) AppleWebKit/537.36 (KHTML, like Gecko) Chrome/130.0.0.0 Safari/537.36',\n",
    "        'X-Requested-With': 'XMLHttpRequest',\n",
    "        'sec-ch-ua': '\"Chromium\";v=\"130\", \"Google Chrome\";v=\"130\", \"Not?A_Brand\";v=\"99\"',\n",
    "        'sec-ch-ua-mobile': '?0',\n",
    "        'sec-ch-ua-platform': '\"Windows\"',\n",
    "    }\n",
    "    data = {\n",
    "        'id': f'{id}',\n",
    "        'webDisplayId': '1001',\n",
    "        'searchWordId': '5aaae7f21e66d420b6ca2aef49221ed4',\n",
    "        'searchId': '6be74044bf3ec7d5fba04edb1639e3d8',\n",
    "        'searchSequence': '1'\n",
    "    }\n",
    "    response = requests.post(url,headers=headers,data=data).json()\n",
    "    data = response['data']\n",
    "    f_to_v = {item['f']: item['v'] for item in data}\n",
    "    \n",
    "    return f_to_v"
   ],
   "id": "abeae907f4a4d7e5",
   "outputs": [],
   "execution_count": 108
  },
  {
   "metadata": {
    "ExecuteTime": {
     "end_time": "2025-05-16T09:28:15.096759Z",
     "start_time": "2025-05-16T09:28:15.089520Z"
    }
   },
   "cell_type": "code",
   "source": [
    "def get_info_list(id_list):\n",
    "    info_list = []\n",
    "    for id in id_list:\n",
    "        f_to_v = get_info(id)\n",
    "        info = {}\n",
    "        info['title'] = f_to_v.get('tit', [''])[0]\n",
    "        info['author'] = f_to_v.get('hasAut', [[{'v': ['']}]])[0][2].get('v', [''])[0]\n",
    "        info['institution'] = f_to_v.get('hasCrOr', [[{'nam': ['']}]])[0][2].get('nam', [''])[0]\n",
    "        info['university'] = f_to_v.get('uni', [''])[0]\n",
    "        info['major'] = f_to_v.get('maj', [''])[0]\n",
    "        info['degree'] = f_to_v.get('deg', [''])[0]\n",
    "        info['department'] = f_to_v.get('off', [''])[0]\n",
    "        info['tutor'] = f_to_v.get('hasTut', [[{'v': ['']}]])[0][2].get('v', [''])[0]\n",
    "        info['language'] = f_to_v.get('lan', [{'zh': ''}])[0].get('zh', '')\n",
    "        info['su_date'] = f_to_v.get('suda', [''])[0]\n",
    "        info['qu_date'] = f_to_v.get('quda', [''])[0]\n",
    "        info['classification_code'] = list(f_to_v.get('clco', [{}])[0].values())[0] if f_to_v.get('clco') else ''\n",
    "        info['keywords'] = f_to_v.get('key', [])\n",
    "        info['abstract'] = f_to_v.get('abs', [''])[0]\n",
    "\n",
    "        info_list.append(info)\n",
    "    return info_list"
   ],
   "id": "893b971b035d1051",
   "outputs": [],
   "execution_count": 109
  },
  {
   "metadata": {
    "ExecuteTime": {
     "end_time": "2025-05-16T09:28:16.001489Z",
     "start_time": "2025-05-16T09:28:15.995298Z"
    }
   },
   "cell_type": "code",
   "source": [
    "tit_list = []\n",
    "hasAut_list = []\n",
    "hasCrOr_list = []\n",
    "uni_list = []\n",
    "maj_list = []\n",
    "deg_list = []\n",
    "off_list = []\n",
    "hasTut_list = []\n",
    "lan_list = []\n",
    "suda_list = []\n",
    "quda_list = []\n",
    "clco_list = []\n",
    "key_list = []\n",
    "abs_list = []\n",
    "\n",
    "df = pd.DataFrame({\n",
    "    '标题': tit_list,\n",
    "    '作者': hasAut_list,\n",
    "    '机构': hasCrOr_list,\n",
    "    '院校': uni_list,\n",
    "    '专业': maj_list,\n",
    "    '学位': deg_list,\n",
    "    '授予机构': off_list,\n",
    "    '导师': hasTut_list,\n",
    "    '语种': lan_list,\n",
    "    '提交日期': suda_list,\n",
    "    '论文答辩日期': quda_list,\n",
    "    '分类号': clco_list,\n",
    "    '关键词': key_list,\n",
    "    '摘要': abs_list\n",
    "})"
   ],
   "id": "92869ceefad5f14d",
   "outputs": [],
   "execution_count": 110
  },
  {
   "metadata": {
    "ExecuteTime": {
     "end_time": "2025-05-16T09:28:16.997534Z",
     "start_time": "2025-05-16T09:28:16.733741Z"
    }
   },
   "cell_type": "code",
   "source": [
    "id_list = get_id_list()\n",
    "info_list = get_info_list(id_list)\n",
    "for info in info_list:\n",
    "    tit_list.append(info.get('title', ''))\n",
    "    hasAut_list.append(info.get('author', ''))\n",
    "    hasCrOr_list.append(info.get('institution', ''))\n",
    "    uni_list.append(info.get('university', ''))\n",
    "    maj_list.append(info.get('major', ''))\n",
    "    deg_list.append(info.get('degree', ''))\n",
    "    off_list.append(info.get('department', ''))\n",
    "    hasTut_list.append(info.get('tutor', ''))\n",
    "    lan_list.append(info.get('language', ''))\n",
    "    suda_list.append(info.get('submission_date', ''))\n",
    "    quda_list.append('')  # 如有对应数据请替换\n",
    "    clco_list.append(info.get('classification_code', ''))\n",
    "    key_list.append(', '.join(info.get('keywords', [])))\n",
    "    abs_list.append(info.get('abstract', ''))\n",
    "df.to_excel('论文信息汇总.xlsx', index=True)"
   ],
   "id": "f1c9b2908887327",
   "outputs": [
    {
     "ename": "JSONDecodeError",
     "evalue": "Expecting value: line 1 column 1 (char 0)",
     "output_type": "error",
     "traceback": [
      "\u001B[31m---------------------------------------------------------------------------\u001B[39m",
      "\u001B[31mJSONDecodeError\u001B[39m                           Traceback (most recent call last)",
      "\u001B[36mFile \u001B[39m\u001B[32mD:\\Development\\Python3\\Lib\\site-packages\\requests\\models.py:974\u001B[39m, in \u001B[36mResponse.json\u001B[39m\u001B[34m(self, **kwargs)\u001B[39m\n\u001B[32m    973\u001B[39m \u001B[38;5;28;01mtry\u001B[39;00m:\n\u001B[32m--> \u001B[39m\u001B[32m974\u001B[39m     \u001B[38;5;28;01mreturn\u001B[39;00m \u001B[43mcomplexjson\u001B[49m\u001B[43m.\u001B[49m\u001B[43mloads\u001B[49m\u001B[43m(\u001B[49m\u001B[38;5;28;43mself\u001B[39;49m\u001B[43m.\u001B[49m\u001B[43mtext\u001B[49m\u001B[43m,\u001B[49m\u001B[43m \u001B[49m\u001B[43m*\u001B[49m\u001B[43m*\u001B[49m\u001B[43mkwargs\u001B[49m\u001B[43m)\u001B[49m\n\u001B[32m    975\u001B[39m \u001B[38;5;28;01mexcept\u001B[39;00m JSONDecodeError \u001B[38;5;28;01mas\u001B[39;00m e:\n\u001B[32m    976\u001B[39m     \u001B[38;5;66;03m# Catch JSON-related errors and raise as requests.JSONDecodeError\u001B[39;00m\n\u001B[32m    977\u001B[39m     \u001B[38;5;66;03m# This aliases json.JSONDecodeError and simplejson.JSONDecodeError\u001B[39;00m\n",
      "\u001B[36mFile \u001B[39m\u001B[32mD:\\Development\\Python3\\Lib\\json\\__init__.py:346\u001B[39m, in \u001B[36mloads\u001B[39m\u001B[34m(s, cls, object_hook, parse_float, parse_int, parse_constant, object_pairs_hook, **kw)\u001B[39m\n\u001B[32m    343\u001B[39m \u001B[38;5;28;01mif\u001B[39;00m (\u001B[38;5;28mcls\u001B[39m \u001B[38;5;129;01mis\u001B[39;00m \u001B[38;5;28;01mNone\u001B[39;00m \u001B[38;5;129;01mand\u001B[39;00m object_hook \u001B[38;5;129;01mis\u001B[39;00m \u001B[38;5;28;01mNone\u001B[39;00m \u001B[38;5;129;01mand\u001B[39;00m\n\u001B[32m    344\u001B[39m         parse_int \u001B[38;5;129;01mis\u001B[39;00m \u001B[38;5;28;01mNone\u001B[39;00m \u001B[38;5;129;01mand\u001B[39;00m parse_float \u001B[38;5;129;01mis\u001B[39;00m \u001B[38;5;28;01mNone\u001B[39;00m \u001B[38;5;129;01mand\u001B[39;00m\n\u001B[32m    345\u001B[39m         parse_constant \u001B[38;5;129;01mis\u001B[39;00m \u001B[38;5;28;01mNone\u001B[39;00m \u001B[38;5;129;01mand\u001B[39;00m object_pairs_hook \u001B[38;5;129;01mis\u001B[39;00m \u001B[38;5;28;01mNone\u001B[39;00m \u001B[38;5;129;01mand\u001B[39;00m \u001B[38;5;129;01mnot\u001B[39;00m kw):\n\u001B[32m--> \u001B[39m\u001B[32m346\u001B[39m     \u001B[38;5;28;01mreturn\u001B[39;00m \u001B[43m_default_decoder\u001B[49m\u001B[43m.\u001B[49m\u001B[43mdecode\u001B[49m\u001B[43m(\u001B[49m\u001B[43ms\u001B[49m\u001B[43m)\u001B[49m\n\u001B[32m    347\u001B[39m \u001B[38;5;28;01mif\u001B[39;00m \u001B[38;5;28mcls\u001B[39m \u001B[38;5;129;01mis\u001B[39;00m \u001B[38;5;28;01mNone\u001B[39;00m:\n",
      "\u001B[36mFile \u001B[39m\u001B[32mD:\\Development\\Python3\\Lib\\json\\decoder.py:345\u001B[39m, in \u001B[36mJSONDecoder.decode\u001B[39m\u001B[34m(self, s, _w)\u001B[39m\n\u001B[32m    341\u001B[39m \u001B[38;5;250m\u001B[39m\u001B[33;03m\"\"\"Return the Python representation of ``s`` (a ``str`` instance\u001B[39;00m\n\u001B[32m    342\u001B[39m \u001B[33;03mcontaining a JSON document).\u001B[39;00m\n\u001B[32m    343\u001B[39m \n\u001B[32m    344\u001B[39m \u001B[33;03m\"\"\"\u001B[39;00m\n\u001B[32m--> \u001B[39m\u001B[32m345\u001B[39m obj, end = \u001B[38;5;28;43mself\u001B[39;49m\u001B[43m.\u001B[49m\u001B[43mraw_decode\u001B[49m\u001B[43m(\u001B[49m\u001B[43ms\u001B[49m\u001B[43m,\u001B[49m\u001B[43m \u001B[49m\u001B[43midx\u001B[49m\u001B[43m=\u001B[49m\u001B[43m_w\u001B[49m\u001B[43m(\u001B[49m\u001B[43ms\u001B[49m\u001B[43m,\u001B[49m\u001B[43m \u001B[49m\u001B[32;43m0\u001B[39;49m\u001B[43m)\u001B[49m\u001B[43m.\u001B[49m\u001B[43mend\u001B[49m\u001B[43m(\u001B[49m\u001B[43m)\u001B[49m\u001B[43m)\u001B[49m\n\u001B[32m    346\u001B[39m end = _w(s, end).end()\n",
      "\u001B[36mFile \u001B[39m\u001B[32mD:\\Development\\Python3\\Lib\\json\\decoder.py:363\u001B[39m, in \u001B[36mJSONDecoder.raw_decode\u001B[39m\u001B[34m(self, s, idx)\u001B[39m\n\u001B[32m    362\u001B[39m \u001B[38;5;28;01mexcept\u001B[39;00m \u001B[38;5;167;01mStopIteration\u001B[39;00m \u001B[38;5;28;01mas\u001B[39;00m err:\n\u001B[32m--> \u001B[39m\u001B[32m363\u001B[39m     \u001B[38;5;28;01mraise\u001B[39;00m JSONDecodeError(\u001B[33m\"\u001B[39m\u001B[33mExpecting value\u001B[39m\u001B[33m\"\u001B[39m, s, err.value) \u001B[38;5;28;01mfrom\u001B[39;00m\u001B[38;5;250m \u001B[39m\u001B[38;5;28;01mNone\u001B[39;00m\n\u001B[32m    364\u001B[39m \u001B[38;5;28;01mreturn\u001B[39;00m obj, end\n",
      "\u001B[31mJSONDecodeError\u001B[39m: Expecting value: line 1 column 1 (char 0)",
      "\nDuring handling of the above exception, another exception occurred:\n",
      "\u001B[31mJSONDecodeError\u001B[39m                           Traceback (most recent call last)",
      "\u001B[36mCell\u001B[39m\u001B[36m \u001B[39m\u001B[32mIn[111]\u001B[39m\u001B[32m, line 2\u001B[39m\n\u001B[32m      1\u001B[39m \u001B[38;5;28;01mfor\u001B[39;00m page \u001B[38;5;129;01min\u001B[39;00m \u001B[38;5;28mrange\u001B[39m(\u001B[32m1\u001B[39m,\u001B[32m4\u001B[39m):\n\u001B[32m----> \u001B[39m\u001B[32m2\u001B[39m     id_list = \u001B[43mget_id_list\u001B[49m\u001B[43m(\u001B[49m\u001B[43mpage\u001B[49m\u001B[43m)\u001B[49m\n\u001B[32m      3\u001B[39m     info_list = get_info_list(id_list)\n\u001B[32m      4\u001B[39m     \u001B[38;5;28;01mfor\u001B[39;00m info \u001B[38;5;129;01min\u001B[39;00m info_list:\n",
      "\u001B[36mCell\u001B[39m\u001B[36m \u001B[39m\u001B[32mIn[107]\u001B[39m\u001B[32m, line 16\u001B[39m, in \u001B[36mget_id_list\u001B[39m\u001B[34m(pageNumber)\u001B[39m\n\u001B[32m      3\u001B[39m     headers = {\n\u001B[32m      4\u001B[39m         \u001B[33m'\u001B[39m\u001B[33mUser-Agent\u001B[39m\u001B[33m'\u001B[39m: \u001B[33m'\u001B[39m\u001B[33mMozilla/5.0 (Windows NT 10.0; Win64; x64) AppleWebKit/537.36 (KHTML, like Gecko) Chrome/130.0.0.0 Safari/537.36\u001B[39m\u001B[33m'\u001B[39m,\n\u001B[32m      5\u001B[39m     }\n\u001B[32m      6\u001B[39m     data  = {\n\u001B[32m      7\u001B[39m   \u001B[33m'\u001B[39m\u001B[33mquery\u001B[39m\u001B[33m'\u001B[39m: \u001B[33m'\u001B[39m\u001B[33m{\u001B[39m\u001B[33m\"\u001B[39m\u001B[33mc\u001B[39m\u001B[33m\"\u001B[39m\u001B[33m:10,\u001B[39m\u001B[33m\"\u001B[39m\u001B[33mst\u001B[39m\u001B[33m\"\u001B[39m\u001B[33m:\u001B[39m\u001B[33m\"\u001B[39m\u001B[33m0\u001B[39m\u001B[33m\"\u001B[39m\u001B[33m,\u001B[39m\u001B[33m\"\u001B[39m\u001B[33mf\u001B[39m\u001B[33m\"\u001B[39m\u001B[33m:[],\u001B[39m\u001B[33m\"\u001B[39m\u001B[33mp\u001B[39m\u001B[33m\"\u001B[39m\u001B[33m:\u001B[39m\u001B[33m\"\u001B[39m\u001B[33m\"\u001B[39m\u001B[33m,\u001B[39m\u001B[33m\"\u001B[39m\u001B[33mq\u001B[39m\u001B[33m\"\u001B[39m\u001B[33m:[\u001B[39m\u001B[33m{\u001B[39m\u001B[33m\"\u001B[39m\u001B[33mk\u001B[39m\u001B[33m\"\u001B[39m\u001B[33m:\u001B[39m\u001B[33m\"\u001B[39m\u001B[33muni_s\u001B[39m\u001B[33m\"\u001B[39m\u001B[33m,\u001B[39m\u001B[33m\"\u001B[39m\u001B[33ma\u001B[39m\u001B[33m\"\u001B[39m\u001B[33m:1,\u001B[39m\u001B[33m\"\u001B[39m\u001B[33mo\u001B[39m\u001B[33m\"\u001B[39m\u001B[33m:\u001B[39m\u001B[33m\"\u001B[39m\u001B[33m\"\u001B[39m\u001B[33m,\u001B[39m\u001B[33m\"\u001B[39m\u001B[33mf\u001B[39m\u001B[33m\"\u001B[39m\u001B[33m:1,\u001B[39m\u001B[33m\"\u001B[39m\u001B[33mv\u001B[39m\u001B[33m\"\u001B[39m\u001B[33m:\u001B[39m\u001B[33m\"\u001B[39m\u001B[38;5;130;01m\\u4E2D\u001B[39;00m\u001B[38;5;130;01m\\u56FD\u001B[39;00m\u001B[38;5;130;01m\\u79D1\u001B[39;00m\u001B[38;5;130;01m\\u5B66\u001B[39;00m\u001B[38;5;130;01m\\u9662\u001B[39;00m\u001B[38;5;130;01m\\u5927\u001B[39;00m\u001B[38;5;130;01m\\u5B66\u001B[39;00m\u001B[33m\"\u001B[39m\u001B[33m},\u001B[39m\u001B[33m{\u001B[39m\u001B[33m\"\u001B[39m\u001B[33mk\u001B[39m\u001B[33m\"\u001B[39m\u001B[33m:\u001B[39m\u001B[33m\"\u001B[39m\u001B[33myea\u001B[39m\u001B[33m\"\u001B[39m\u001B[33m,\u001B[39m\u001B[33m\"\u001B[39m\u001B[33ma\u001B[39m\u001B[33m\"\u001B[39m\u001B[33m:1,\u001B[39m\u001B[33m\"\u001B[39m\u001B[33mo\u001B[39m\u001B[33m\"\u001B[39m\u001B[33m:\u001B[39m\u001B[33m\"\u001B[39m\u001B[33m\"\u001B[39m\u001B[33m,\u001B[39m\u001B[33m\"\u001B[39m\u001B[33mf\u001B[39m\u001B[33m\"\u001B[39m\u001B[33m:1,\u001B[39m\u001B[33m\"\u001B[39m\u001B[33mv\u001B[39m\u001B[33m\"\u001B[39m\u001B[33m:\u001B[39m\u001B[33m\"\u001B[39m\u001B[33m2022\u001B[39m\u001B[33m\"\u001B[39m\u001B[33m}],\u001B[39m\u001B[33m\"\u001B[39m\u001B[33mop\u001B[39m\u001B[33m\"\u001B[39m\u001B[33m:\u001B[39m\u001B[33m\"\u001B[39m\u001B[33mAND\u001B[39m\u001B[33m\"\u001B[39m\u001B[33m,\u001B[39m\u001B[33m\"\u001B[39m\u001B[33ms\u001B[39m\u001B[33m\"\u001B[39m\u001B[33m:[\u001B[39m\u001B[33m\"\u001B[39m\u001B[33mnstl\u001B[39m\u001B[33m\"\u001B[39m\u001B[33m,\u001B[39m\u001B[33m\"\u001B[39m\u001B[33mhaveAbsAuK:desc\u001B[39m\u001B[33m\"\u001B[39m\u001B[33m,\u001B[39m\u001B[33m\"\u001B[39m\u001B[33myea:desc\u001B[39m\u001B[33m\"\u001B[39m\u001B[33m,\u001B[39m\u001B[33m\"\u001B[39m\u001B[33mscore\u001B[39m\u001B[33m\"\u001B[39m\u001B[33m],\u001B[39m\u001B[33m\"\u001B[39m\u001B[33mt\u001B[39m\u001B[33m\"\u001B[39m\u001B[33m:[\u001B[39m\u001B[33m\"\u001B[39m\u001B[33mDegreePaper\u001B[39m\u001B[33m\"\u001B[39m\u001B[33m]}\u001B[39m\u001B[33m'\u001B[39m,\n\u001B[32m      8\u001B[39m   \u001B[33m'\u001B[39m\u001B[33mwebDisplayId\u001B[39m\u001B[33m'\u001B[39m: \u001B[33m'\u001B[39m\u001B[33m11\u001B[39m\u001B[33m'\u001B[39m,\n\u001B[32m   (...)\u001B[39m\u001B[32m     14\u001B[39m   \u001B[33m'\u001B[39m\u001B[33mpageNumber\u001B[39m\u001B[33m'\u001B[39m: \u001B[33mf\u001B[39m\u001B[33m'\u001B[39m\u001B[38;5;132;01m{\u001B[39;00mpageNumber\u001B[38;5;132;01m}\u001B[39;00m\u001B[33m'\u001B[39m\n\u001B[32m     15\u001B[39m }\n\u001B[32m---> \u001B[39m\u001B[32m16\u001B[39m     response = \u001B[43mrequests\u001B[49m\u001B[43m.\u001B[49m\u001B[43mpost\u001B[49m\u001B[43m(\u001B[49m\u001B[43murl\u001B[49m\u001B[43m,\u001B[49m\u001B[43mheaders\u001B[49m\u001B[43m=\u001B[49m\u001B[43mheaders\u001B[49m\u001B[43m,\u001B[49m\u001B[43mdata\u001B[49m\u001B[43m \u001B[49m\u001B[43m=\u001B[49m\u001B[43m \u001B[49m\u001B[43mdata\u001B[49m\u001B[43m)\u001B[49m\u001B[43m.\u001B[49m\u001B[43mjson\u001B[49m\u001B[43m(\u001B[49m\u001B[43m)\u001B[49m\n\u001B[32m     17\u001B[39m     data_list = response[\u001B[33m'\u001B[39m\u001B[33mdata\u001B[39m\u001B[33m'\u001B[39m]\n\u001B[32m     18\u001B[39m     id_list = [data[\u001B[32m0\u001B[39m][\u001B[33m'\u001B[39m\u001B[33mv\u001B[39m\u001B[33m'\u001B[39m] \u001B[38;5;28;01mfor\u001B[39;00m data \u001B[38;5;129;01min\u001B[39;00m data_list]\n",
      "\u001B[36mFile \u001B[39m\u001B[32mD:\\Development\\Python3\\Lib\\site-packages\\requests\\models.py:978\u001B[39m, in \u001B[36mResponse.json\u001B[39m\u001B[34m(self, **kwargs)\u001B[39m\n\u001B[32m    974\u001B[39m     \u001B[38;5;28;01mreturn\u001B[39;00m complexjson.loads(\u001B[38;5;28mself\u001B[39m.text, **kwargs)\n\u001B[32m    975\u001B[39m \u001B[38;5;28;01mexcept\u001B[39;00m JSONDecodeError \u001B[38;5;28;01mas\u001B[39;00m e:\n\u001B[32m    976\u001B[39m     \u001B[38;5;66;03m# Catch JSON-related errors and raise as requests.JSONDecodeError\u001B[39;00m\n\u001B[32m    977\u001B[39m     \u001B[38;5;66;03m# This aliases json.JSONDecodeError and simplejson.JSONDecodeError\u001B[39;00m\n\u001B[32m--> \u001B[39m\u001B[32m978\u001B[39m     \u001B[38;5;28;01mraise\u001B[39;00m RequestsJSONDecodeError(e.msg, e.doc, e.pos)\n",
      "\u001B[31mJSONDecodeError\u001B[39m: Expecting value: line 1 column 1 (char 0)"
     ]
    }
   ],
   "execution_count": 111
  },
  {
   "metadata": {},
   "cell_type": "code",
   "outputs": [],
   "execution_count": null,
   "source": "",
   "id": "6c1f208d24b7a191"
  }
 ],
 "metadata": {
  "kernelspec": {
   "display_name": "Python 3",
   "language": "python",
   "name": "python3"
  },
  "language_info": {
   "codemirror_mode": {
    "name": "ipython",
    "version": 2
   },
   "file_extension": ".py",
   "mimetype": "text/x-python",
   "name": "python",
   "nbconvert_exporter": "python",
   "pygments_lexer": "ipython2",
   "version": "2.7.6"
  }
 },
 "nbformat": 4,
 "nbformat_minor": 5
}
