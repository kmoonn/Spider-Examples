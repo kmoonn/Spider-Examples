{
 "cells": [
  {
   "cell_type": "code",
   "id": "initial_id",
   "metadata": {
    "collapsed": true,
    "ExecuteTime": {
     "end_time": "2024-08-28T06:33:58.280117Z",
     "start_time": "2024-08-28T06:33:58.157122Z"
    }
   },
   "source": [
    "import requests\n",
    "\n",
    "url = 'https://gw-c.nowcoder.com/api/sparta/experience/info/company-v2/958'\n",
    "\n",
    "headers = {\n",
    "    'Cookie':'NOWCODERUID=987D2194B8121B4D55259A11B1B366B5; NOWCODERCLINETID=FA573B16325C0ED2222573A7AAA88D00; gr_user_id=b9e4c869-6b01-4863-8ebe-c9cc9636e022; isAgreementChecked=true; c196c3667d214851b11233f5c17f99d5_gr_last_sent_cs1=274939792; t=F78C6BBE8CE771610B46AC6C0CB02F12; ls_sess_id=F78C6BBE8CE771610B46AC6C0CB02F12; username=Kmoons; username.sig=uqeGkPQ5hWxJrzKJFwdYbr9q4TImlXVl2yClCsZ_UDI; uid=274939792; uid.sig=4rAE1BCmC8KVlduhTspNOUaCVHVjHjaYjYdEMe59DXM; c196c3667d214851b11233f5c17f99d5_gr_session_id=de41fe3e-0de8-49ec-bb38-a408bc5f0354; c196c3667d214851b11233f5c17f99d5_gr_last_sent_sid_with_cs1=de41fe3e-0de8-49ec-bb38-a408bc5f0354; c196c3667d214851b11233f5c17f99d5_gr_session_id_de41fe3e-0de8-49ec-bb38-a408bc5f0354=true; acw_tc=deaf31f7e6437a835f2ad6d0eea4d3cb882bc53f2d034d3f16d61f451f49a14b; Hm_lvt_a808a1326b6c06c437de769d1b85b870=1722745681,1723647381,1723679174,1723679437; HMACCOUNT=66EC7EA083FA545A; Hm_lpvt_a808a1326b6c06c437de769d1b85b870=1723679459; c196c3667d214851b11233f5c17f99d5_gr_cs1=274939792',\n",
    "    'User-Agent':'Mozilla/5.0 (Windows NT 10.0; Win64; x64) AppleWebKit/537.36 (KHTML, like Gecko) Chrome/119.0.0.0 Safari/537.36'\n",
    "}"
   ],
   "outputs": [],
   "execution_count": 1
  },
  {
   "metadata": {
    "ExecuteTime": {
     "end_time": "2024-08-28T06:45:48.074834Z",
     "start_time": "2024-08-28T06:45:48.057835Z"
    }
   },
   "cell_type": "code",
   "source": [
    "from datetime import datetime\n",
    "\n",
    "careerJob = {\n",
    "    '测试':11203,\n",
    "    '后端开发':11200,\n",
    "    '全部':0\n",
    "}\n",
    "\n",
    "def get_interview_experience(order=3, pageNo=1, career='全部'):\n",
    "    params = {\n",
    "    'order':order, # 3-最新 1-最热\n",
    "    'pageNo':pageNo,\n",
    "    'pageSize':20,\n",
    "    'careerJobId':careerJob[career], # 11203测试 11200后端开发 0全部\n",
    "    '_':1723679570559\n",
    "    }\n",
    "    \n",
    "    response = requests.get(url, headers=headers, params=params)\n",
    "\n",
    "    total = response.json()['data']['total']\n",
    "    data = response.json()['data']['records']\n",
    "    print(f'截止{datetime.now()}，{career}岗位面经数量：{total}')\n",
    "    \n",
    "    return data"
   ],
   "id": "15d6f41c6a3e9a4f",
   "outputs": [],
   "execution_count": 19
  },
  {
   "metadata": {
    "ExecuteTime": {
     "end_time": "2024-08-28T06:45:49.109033Z",
     "start_time": "2024-08-28T06:45:48.549741Z"
    }
   },
   "cell_type": "code",
   "source": "data = get_interview_experience(career = '测试')",
   "id": "639f150a7abe4455",
   "outputs": [
    {
     "name": "stdout",
     "output_type": "stream",
     "text": [
      "截止2024-08-28 14:45:49.092083，测试岗位面经数量：25\n"
     ]
    }
   ],
   "execution_count": 20
  },
  {
   "metadata": {
    "ExecuteTime": {
     "end_time": "2024-08-28T06:48:55.672346Z",
     "start_time": "2024-08-28T06:48:55.639037Z"
    }
   },
   "cell_type": "code",
   "source": [
    "from pprint import pprint\n",
    "\n",
    "for item in data:\n",
    "    title = item['momentData']['title']\n",
    "    content = item['momentData']['content']\n",
    "    print(title,content,end='\\n')"
   ],
   "id": "ce3e346f417e4766",
   "outputs": [
    {
     "name": "stdout",
     "output_type": "stream",
     "text": [
      "联想测开面试 在官网上投递一周左右，面试官打电话约时间\n",
      "4.12 面试，两个面试官，杂七杂八根据简历上问了很多发散性的问题，英语、测试、项目都有。\n",
      "手写代码，没错，就是拿铅笔写，以后再有这种线下面试，建议带个橡皮什么的，写错了方便更改。还有一些其他题，什么八股都沾一点，不知道从哪找来的题。两道编程题，第二题是子数组最大和，贪心题。给半小时写。\n",
      "4.26 感谢信\n",
      "联想OC了，分享一下timeline吧~ 非常感谢联想，能在金三银四的末尾给我了oc<img style=\"width:18px; height:18px\" data-card-emoji=\"[羞涩]\" data-card-nowcoder=\"[羞涩]\" src=\"https://uploadfiles.nowcoder.com/images/20220815/318889480_1660553763465/6F6CA9EC40A6F04C7838E4DE94A77241\"/>。\n",
      "岗位是测开，\n",
      "4月刚开始投的简历，当时看到岗位开了就鼓起了勇气，心里没底的投了一下简历，具体时间忘记了。\n",
      "4/11测评，\n",
      "        4/8发了测评邮箱，因为时间关系，拖到11号才做完测评，测评内容不是很难，放松的心态就做完了。\n",
      "4/12约一面，\n",
      "4/17一面，\n",
      "       一面的整体体验非常好，在我不会的时候面试官还会很耐心的提醒我，在一面结束后是有很强烈的感觉自己进了池子的，因为当时面试官问了我打算实习多久（可能每个人都会问吧哈哈）。\n",
      "4/22约二面，\n",
      "4/25二面，\n",
      "        二面是有两个面试官，面试官人都超级好，一直都是在笑着问问题，由于约定的时间是半个小时，但实际上20分钟就结束了，心里很没谱，担心是KPI。所以二面结束后就没有抱太大希望，就准备去找其他实习了。\n",
      "4/29oc，\n",
      "        再次感谢想爹能给我这次机会，今天上午还在面一家牛马公司，准备想爹不发offer我就去这家公司当牛马了<img style=\"width:18px; height:18px\" data-card-emoji=\"[牛泪]\" data-card-nowcoder=\"[牛泪]\" src=\"https://uploadfiles.nowcoder.com/images/20220815/318889480_1660553763930/8B36D115CE5468E380708713273FEF43\"/>\n",
      "联想暑期 测开一面 22min结束，问的问题也很抽象，感觉不像是技术面？还是KPI？\n",
      "面试官看起来像主管，但是很随和，面试体验很好\n",
      "这边招聘的是测开，但我看你的简历大多是后端，为什么？\n",
      "这边实习要两个月可以接受吗？（光速点头）\n",
      "英语自我介绍？\n",
      "用英语翻译一下句子（抽了两行我在简历里面写的内容）？\n",
      "英语描述你所在的城市？\n",
      "你对测开的理解？\n",
      "10min限时做题（本地IDEA写），非leetcode题，但是挺简单（做出来后面试官提示考虑边界情况，让我口述解决办法）\n",
      "题目：给出A、B两个版本号（各自长度可能不一致），判断发布先后顺序\n",
      "反问\n",
      "什么时候出结果？——1-2周\n",
      "对我的评价？——英语不咋地，基础还可以\n",
      "没啥期待，鼠鼠不敢高攀大厂，等一手感谢信~~~<img style=\"width:18px; height:18px\" data-card-emoji=\"[好无辜]\" data-card-nowcoder=\"[好无辜]\" src=\"https://uploadfiles.nowcoder.com/images/20220815/318889480_1660553763618/25C98751B489394CFB21CE09AE55BC97\"/>\n",
      "---\n",
      "4.26 已挂\n"
     ]
    },
    {
     "ename": "KeyError",
     "evalue": "'momentData'",
     "output_type": "error",
     "traceback": [
      "\u001B[1;31m---------------------------------------------------------------------------\u001B[0m",
      "\u001B[1;31mKeyError\u001B[0m                                  Traceback (most recent call last)",
      "Cell \u001B[1;32mIn[27], line 4\u001B[0m\n\u001B[0;32m      1\u001B[0m \u001B[38;5;28;01mfrom\u001B[39;00m \u001B[38;5;21;01mpprint\u001B[39;00m \u001B[38;5;28;01mimport\u001B[39;00m pprint\n\u001B[0;32m      3\u001B[0m \u001B[38;5;28;01mfor\u001B[39;00m item \u001B[38;5;129;01min\u001B[39;00m data:\n\u001B[1;32m----> 4\u001B[0m     title \u001B[38;5;241m=\u001B[39m \u001B[43mitem\u001B[49m\u001B[43m[\u001B[49m\u001B[38;5;124;43m'\u001B[39;49m\u001B[38;5;124;43mmomentData\u001B[39;49m\u001B[38;5;124;43m'\u001B[39;49m\u001B[43m]\u001B[49m[\u001B[38;5;124m'\u001B[39m\u001B[38;5;124mtitle\u001B[39m\u001B[38;5;124m'\u001B[39m]\n\u001B[0;32m      5\u001B[0m     content \u001B[38;5;241m=\u001B[39m item[\u001B[38;5;124m'\u001B[39m\u001B[38;5;124mmomentData\u001B[39m\u001B[38;5;124m'\u001B[39m][\u001B[38;5;124m'\u001B[39m\u001B[38;5;124mcontent\u001B[39m\u001B[38;5;124m'\u001B[39m]\n\u001B[0;32m      6\u001B[0m     \u001B[38;5;28mprint\u001B[39m(title,content,end\u001B[38;5;241m=\u001B[39m\u001B[38;5;124m'\u001B[39m\u001B[38;5;130;01m\\n\u001B[39;00m\u001B[38;5;124m'\u001B[39m)\n",
      "\u001B[1;31mKeyError\u001B[0m: 'momentData'"
     ]
    }
   ],
   "execution_count": 27
  },
  {
   "metadata": {},
   "cell_type": "code",
   "outputs": [],
   "execution_count": null,
   "source": "",
   "id": "21247f0a641eb12f"
  }
 ],
 "metadata": {
  "kernelspec": {
   "display_name": "Python 3",
   "language": "python",
   "name": "python3"
  },
  "language_info": {
   "codemirror_mode": {
    "name": "ipython",
    "version": 2
   },
   "file_extension": ".py",
   "mimetype": "text/x-python",
   "name": "python",
   "nbconvert_exporter": "python",
   "pygments_lexer": "ipython2",
   "version": "2.7.6"
  }
 },
 "nbformat": 4,
 "nbformat_minor": 5
}
