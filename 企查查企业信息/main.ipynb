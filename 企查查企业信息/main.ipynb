{
 "cells": [
  {
   "cell_type": "code",
   "id": "initial_id",
   "metadata": {
    "collapsed": true,
    "ExecuteTime": {
     "end_time": "2024-05-09T01:32:29.790051Z",
     "start_time": "2024-05-09T01:32:29.663395Z"
    }
   },
   "source": [
    "import requests\n",
    "import json"
   ],
   "outputs": [],
   "execution_count": 1
  },
  {
   "metadata": {
    "ExecuteTime": {
     "end_time": "2024-05-09T01:33:42.823759Z",
     "start_time": "2024-05-09T01:33:42.622298Z"
    }
   },
   "cell_type": "code",
   "source": [
    "url = 'https://www.qcc.com/api/search/searchMulti'\n",
    "\n",
    "headers = {\n",
    "    '0d59330719b4b94fdc43': 'bfe92793243413f19ec06c4a2e545f96c645575d01912763cf90e79e560b03b840bc2d197de66ce2654acab55c18d3300663f3c1b2c7600598919fd2d34f1b5b',\n",
    "    'Cookie':'acw_tc=2f624a7617152179105125651e7d05710e6776adec6982feaf3d4081f4af37; QCCSESSID=bc3fc616a97aa1e389d8ad70e4; qcc_did=b245b610-253e-4940-8a43-a12e784fe4bd; UM_distinctid=18f5af45a7482e-0cd66514a22ca7-13e3167-1fa400-18f5af45a75ffe; tfstk=fnJXkkTN7r4XmUt5SsnPF5Vvf7X1fEMF5ls9xhe4XtBYWPKdziJqohQ65U7k51mc7NQ67hdq4vkemnXGBOgELvrHZEBehNUNBoF_-AuE8vkP3kwWe2RaWcsPNGbRDNITM0_RYMXODsIxVaI1x5UvWOnW2ajdD-IABuERXMG2xkssGZxj7j8lPyan9n_7BJZhcspKKawTBLsX0wKx9Re9Fi1vQpB0VoC26HfH3hM_Et-BwTI6IDF156O93TpxyvCl6LLR2EoasgO6XpXDlqNckI85tgC8fvjy8aKDHQigynLFltIRavnB26QcsB5uX7-RhZ62C_rUIeKyYKfkC2aRSISheG9iv5_16gWgLwwpv5Z5tRs580i7s5RfiDTWQwTx_sIlc_oSVrdGMgj580i7s5fAqis-V0avs; CNZZDATA1254842228=1643088853-1715217914-https%253A%252F%252Fcn.bing.com%252F%7C1715218033',\n",
    "    'user-agent': 'Mozilla/5.0 (Windows NT 10.0; Win64; x64) AppleWebKit/537.36 (KHTML, like Gecko) Chrome/98.0.4758.139 Safari/537.36',\n",
    "    'x-pid': '2333eca85e1d0b67ec5ec0c8ce36bd44'\n",
    "}\n",
    "\n",
    "data = {'searchKey': \"武汉\", \n",
    "        'pageIndex': 1, \n",
    "        'pageSize': 20\n",
    "        }\n",
    "\n",
    "response = requests.post(url, headers=headers, data=data)\n",
    "data = response.text\n",
    "print(data)"
   ],
   "id": "571b42b72fdcbf95",
   "outputs": [
    {
     "name": "stdout",
     "output_type": "stream",
     "text": [
      "<!DOCTYPE html>\n",
      "<html>\n",
      "\n",
      "<head>\n",
      "  <meta charset=\"utf-8\">\n",
      "  <title>500错误页面</title>\n",
      "  <meta name=\"keywords\"\n",
      "    content=\"企查查,企业查询,公司查询,工商查询,企业信用信息查询系统,企业工商信息查询平台,企业财务信息查询,企业信用评价查询,企业纠纷查询,企业现金流查询,企业股权查询,企业负债查询,企业资产查询,企业财报查询,企业失信信息查询\">\n",
      "  <meta name=\"description\"\n",
      "    content=\"企查查信息来自国家企业信用信息公示系统，提供企业信息查询,工商查询,企业信用评价查询，企业纠纷查询，企业现金流查询，企业股权查询，企业负债查询，企业资产查询，企业财报查询,公司查询等相关信息查询；帮您快速了解企业信息,企业工商信息,企业信用信息等经营和人员投资状况！\">\n",
      "  <meta charset=\"utf-8\">\n",
      "  <meta content=\"yes\" name=\"apple-mobile-web-app-capable\">\n",
      "  <meta content=\"black\" name=\"apple-mobile-web-app-status-bar-style\">\n",
      "  <meta content=\"telephone=no\" name=\"format-detection\">\n",
      "  <meta http-equiv=\"Cache-Control\" content=\"no-cache, no-store, must-revalidate\">\n",
      "  <meta http-equiv=\"Pragma\" content=\"no-cache\">\n",
      "  <meta http-equiv=\"Expires\" content=\"0\">\n",
      "  <meta name=\"layoutmode\" content=\"standard\">\n",
      "  <meta name=\"wap-font-scale\" content=\"no\">\n",
      "  <meta http-equiv=\"Content-Type\" content=\"text/html; charset=utf-8\">\n",
      "  <meta name=\"viewport\"\n",
      "    content=\"width=device-width, user-scalable=no, initial-scale=1.0, maximum-scale=1.0, minimum-scale=1.0\">\n",
      "  <style>\n",
      "  .error-wrap {\n",
      "    position: absolute;\n",
      "    left: 0;\n",
      "    top: 0;\n",
      "    right: 0;\n",
      "    bottom: 0;\n",
      "    background: #fff;\n",
      "  }\n",
      "  .mod-notfound {\n",
      "    margin: auto;\n",
      "    margin-top: 20vh;\n",
      "    text-align: center;\n",
      "    font-size: 0px;\n",
      "    -webkit-font-smoothing: antialiased;\n",
      "  }\n",
      "\n",
      "  .mod-notfound .img-notfound {\n",
      "    width: 240px;\n",
      "  }\n",
      "\n",
      "  .mod-notfound div{\n",
      "    font-family: PingFangSC-Regular, PingFang SC;\n",
      "    color: #999999;\n",
      "    margin:20px auto 30px;\n",
      "    font-size: 14px;\n",
      "    line-height: 22px;\n",
      "  }\n",
      "\n",
      "\n",
      "  .mod-notfound  .btn {\n",
      "    font-family: PingFangSC-Regular, PingFang SC;\n",
      "    width: 88px;\n",
      "    height: 32px;\n",
      "    text-align: center;\n",
      "    background: #128bed;\n",
      "    border-radius: 2px;\n",
      "    color: #fff;\n",
      "    font-size: 14px;\n",
      "    line-height: 32px;\n",
      "    display: block;\n",
      "    text-decoration: none;\n",
      "    padding: 0;\n",
      "    margin:0 auto;\n",
      "    box-sizing: border-box;\n",
      "    border:none;\n",
      "  }\n",
      "  </style>\n",
      "</head>\n",
      "\n",
      "<body>\n",
      "  <div class=\"error-wrap\">\n",
      "    <div class=\"mod-notfound grid-98\">\n",
      "      <img class=\"img-notfound\" src=\"//qcc-static.qcc.com/resources/web/images/error/500-new.png\">\n",
      "      <div>抱歉，系统繁忙，请稍候重试</div>\n",
      "      <a href=\"https://www.qcc.com\" class=\"btn\">返回首页</a>\n",
      "    </div>\n",
      "  </div>\n",
      "</body>\n",
      "<script>\n",
      "  function errPageReload() {\n",
      "    window.location.reload()\n",
      "  } \n",
      "</script>\n",
      "\n",
      "</html>\n"
     ]
    }
   ],
   "execution_count": 5
  },
  {
   "metadata": {},
   "cell_type": "code",
   "outputs": [],
   "execution_count": null,
   "source": "",
   "id": "408e1a0af595613a"
  }
 ],
 "metadata": {
  "kernelspec": {
   "display_name": "Python 3",
   "language": "python",
   "name": "python3"
  },
  "language_info": {
   "codemirror_mode": {
    "name": "ipython",
    "version": 2
   },
   "file_extension": ".py",
   "mimetype": "text/x-python",
   "name": "python",
   "nbconvert_exporter": "python",
   "pygments_lexer": "ipython2",
   "version": "2.7.6"
  }
 },
 "nbformat": 4,
 "nbformat_minor": 5
}
