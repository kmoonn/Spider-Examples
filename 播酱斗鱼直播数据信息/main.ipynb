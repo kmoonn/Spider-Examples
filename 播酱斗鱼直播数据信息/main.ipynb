{
 "cells": [
  {
   "cell_type": "code",
   "id": "initial_id",
   "metadata": {
    "collapsed": true,
    "ExecuteTime": {
     "end_time": "2024-04-28T11:27:26.178227Z",
     "start_time": "2024-04-28T11:27:26.069517Z"
    }
   },
   "source": [
    "import requests\n",
    "import json"
   ],
   "outputs": [],
   "execution_count": 1
  },
  {
   "metadata": {
    "ExecuteTime": {
     "end_time": "2024-04-28T11:40:14.726629Z",
     "start_time": "2024-04-28T11:40:14.708679Z"
    }
   },
   "cell_type": "code",
   "source": [
    "url = 'https://bojianger.com/data/api/common/anchor_list.do'\n",
    "\n",
    "header = {\n",
    "    'User-Agent': 'Mozilla/5.0 (Windows NT 10.0; Win64; x64) AppleWebKit/537.36 (KHTML, like Gecko) Chrome/98.0.4758.139 Safari/537.36',\n",
    "    'Cookie': 'Hm_lvt_afde8320c8c6fa5cb4193fae2f492fd3=1714302248,1714302621; Hm_lpvt_afde8320c8c6fa5cb4193fae2f492fd3=1714302621',\n",
    "}\n",
    "\n",
    "params = {\n",
    "    'date': '2024-04-28',\n",
    "    'keyword': '',\n",
    "    'categoryName': 'total', #类型\n",
    "    'categoryId': 0,\n",
    "    'clubName': 'total', #工会\n",
    "    'clubNo': 'total',\n",
    "    'orderBy': 'audience_count', #排序\n",
    "    'getType': 'all',\n",
    "    'pageNum': 1,\n",
    "    'pageSize': 30\n",
    "}"
   ],
   "id": "8635bfa3911a7957",
   "outputs": [],
   "execution_count": 19
  },
  {
   "metadata": {
    "ExecuteTime": {
     "end_time": "2024-04-28T11:40:15.555093Z",
     "start_time": "2024-04-28T11:40:15.231951Z"
    }
   },
   "cell_type": "code",
   "source": [
    "response = requests.get(url, headers=header, params=params)\n",
    "data = response.json()['data']['rows']\n",
    "print(len(data),type(data))\n",
    "print(data[0])"
   ],
   "id": "7b5738fb1960cb2a",
   "outputs": [
    {
     "name": "stdout",
     "output_type": "stream",
     "text": [
      "30 <class 'list'>\n",
      "{'num': 1, 'rid': 36252, 'name': 'MrGemini', 'avator': 'https://apic.douyucdn.cn/upload/avatar_v3/202102/47f4de22caa349ad9814ac032869252b_big.jpg', 'cate_name': '王者荣耀', 'cate_id': 181, 'room_title': 'Gemini：eStar VS RW', 'room_thumb': 'https://rpic.douyucdn.cn/live-cover/coverupdate/2024/04/25/e6a10a13533673aed3286d266e6781d7.jpg/dy1', 'room_status': 1, 'hn_now': 5062097, 'hn_max': 5624892, 'hn_avg': 4913286, 'hn_avg_close': 57823, 'update_time': 1714304316681, 'duration': '本日时长：6小时45分钟（00:00~00:59，13:53~现在）', 'danmu_count': 169191, 'yc_gift_value': '233077.2', 'yw_gift_gx': 0, 'gift_new_yc': '28411.9', 'gift_new_yw': '220400.0', 'gift_new_bag': '204665.3', 'audience_count': 63608, 'danmu_person_count': 40724, 'gift_person_count': 20750, 'date': '2024-04-28', 'lastStartTime': '2024-04-28 13:53', 'club_no': 'Jq33rx3', 'club_name': '伐木累', 'subcribe': False, 'lived': True}\n"
     ]
    }
   ],
   "execution_count": 20
  },
  {
   "metadata": {
    "ExecuteTime": {
     "end_time": "2024-04-28T11:40:16.694236Z",
     "start_time": "2024-04-28T11:40:16.675300Z"
    }
   },
   "cell_type": "code",
   "source": [
    "'''\n",
    "['num', 'rid', 'name', 'avator', 'cate_name', 'cate_id', 'room_title', 'room_thumb', 'room_status', 'hn_now', 'hn_max', 'hn_avg', 'hn_avg_close', 'update_time', 'duration', 'danmu_count', 'yc_gift_value', 'yw_gift_gx', 'gift_new_yc', 'gift_new_yw', 'gift_new_bag', 'audience_count', 'danmu_person_count', 'gift_person_count', 'date', 'lastStartTime', 'club_no', 'club_name', 'subcribe', 'lived']\n",
    "'''\n",
    "name_list = []\n",
    "room_title_list = []\n",
    "club_name_list = []\n",
    "hn_now_list = []\n",
    "cate_name_list = []\n",
    "yc_gift_value_list = []"
   ],
   "id": "d0236f4d64a688b8",
   "outputs": [],
   "execution_count": 21
  },
  {
   "metadata": {
    "ExecuteTime": {
     "end_time": "2024-04-28T11:40:17.552313Z",
     "start_time": "2024-04-28T11:40:17.542338Z"
    }
   },
   "cell_type": "code",
   "source": [
    "for item in data:\n",
    "    print(item['name'], item['room_title'],item['club_name'],item['hn_now'],item['cate_name'],item['yc_gift_value'])\n",
    "    name_list.append(item['name'])\n",
    "    room_title_list.append(item['room_title'])\n",
    "    club_name_list.append(item['club_name'])\n",
    "    hn_now_list.append(item['hn_now'])\n",
    "    cate_name_list.append(item['cate_name'])\n",
    "    yc_gift_value_list.append(item['yc_gift_value'])"
   ],
   "id": "a4a2aea092ec0607",
   "outputs": [
    {
     "name": "stdout",
     "output_type": "stream",
     "text": [
      "MrGemini Gemini：eStar VS RW 伐木累 5062097 王者荣耀 233077.2\n",
      "呆妹儿小霸王 【钻粉2.5倍】一起see  1778692 热门游戏 813507.8\n",
      "寅子 9点直播71415。。。。  4275129 主机其他游戏 423050.7\n",
      "yyfyyf 随便玩玩! 9999 熊掌文化 3620744 DOTA2 390827.1\n",
      "王者荣耀官方赛事 eStar 1:2 RW侠  6950738 王者荣耀 1050.6\n",
      "一条小团团OvO 包包代播~  2365702 热门游戏 168675.2\n",
      "进击的神乐 【神乐】华语 经典 电影 沈腾 周杰伦 樂萌 537249 一起看 15764.3\n",
      "叫我老陈就好了 来这里开心就好！ 74960  1520390 DOTA2 55709.2\n",
      "pigff 【PIGFF】tyloo加油！ 小象互娱 3638099 热门游戏 102982.1\n",
      "Xleft小叮当 【双倍亲密】春季赛PeRo加油！ 金豆文化 2774589 热门游戏 141806.1\n",
      "即将拥有人鱼线的PDD 开熏开熏 开熏开熏  0 英雄联盟 50297.5\n",
      "进击D神乐 【周星驰】星爷 电影 喜剧 经典 神乐 樂萌 299813 一起看 5931.0\n",
      "英雄联盟赛事 5月1日16点MSI入围赛  2389403 英雄联盟 510.2\n",
      "靓旭 今晚重头戏：卖手腕专场！  2088290 棋牌娱乐 66989.9\n",
      "狂仔酷炫 【贝爷影厅】欧美 科幻 动作 灾难 经典  244823 一起看 640.3\n",
      "玩机器丶Machine VITALITY VS MONGOLZ! 云汉 3438938 CS2 44560.6\n",
      "美兮超可爱的 ✨神乐✨欧美 电影 科幻 动作 经典喜剧 樂萌 270328 一起看 468.1\n",
      "金咕咕金咕咕doinb 5点韩服单排 8点打smlz 伐木累 4684022 英雄联盟 68446.8\n",
      "DL丶拖米 estar vs RW侠！ 星鱼文化 4505939 王者荣耀 123516.2\n",
      "imxiaoxin 【✘-✘】黑白双撒 双倍卡 小象互娱 3596620 热门游戏 203835.6\n",
      "洞主丨歌神洞庭湖 欢乐时光开始了！ 138243 新驴酱 2390747 英雄联盟 79181.6\n",
      "baby丶贝贝 【贝贝】今日2倍亲密度~素颜武汉妹子陪看 云汉 306669 一起看 4677.1\n",
      "异灵术老师 异灵术：开心快乐93589 小象互娱 1619910 炉石传说 69039.1\n",
      "UU娇哒哒呀 ❤️小U❤️丧尸 鬼片 恐怖 惊悚 电影  233296 一起看 2884.6\n",
      "放逐大帝灬 诸位爷，里边请！ MQ沐柒 2028842 英雄联盟 40008.4\n",
      "余小C真的很强 余小C：康特之神方可上分！ 驴酱 2248351 英雄联盟 34507.7\n",
      "白鲨AyoM 24-28号下午16点APAC转播 小象互娱 3382076 穿越火线 193221.9\n",
      "伊太刀刀 【女神金】60帧 蓝光原画 刀刀陪看  131546 一起看 4868.5\n",
      "狂拽酷炫 【贝爷MAX厅】60帧 科幻 动作 经典  293855 一起看 520.3\n",
      "Big茄子 野蛮部落天才少年选拔 小象互娱 2598860 CS2 16478.1\n"
     ]
    }
   ],
   "execution_count": 22
  },
  {
   "metadata": {},
   "cell_type": "code",
   "outputs": [],
   "execution_count": null,
   "source": "",
   "id": "1311db4d0e5cd629"
  }
 ],
 "metadata": {
  "kernelspec": {
   "display_name": "Python 3",
   "language": "python",
   "name": "python3"
  },
  "language_info": {
   "codemirror_mode": {
    "name": "ipython",
    "version": 2
   },
   "file_extension": ".py",
   "mimetype": "text/x-python",
   "name": "python",
   "nbconvert_exporter": "python",
   "pygments_lexer": "ipython2",
   "version": "2.7.6"
  }
 },
 "nbformat": 4,
 "nbformat_minor": 5
}
