{
 "cells": [
  {
   "cell_type": "code",
   "id": "initial_id",
   "metadata": {
    "collapsed": true,
    "ExecuteTime": {
     "end_time": "2024-08-07T10:28:13.157284Z",
     "start_time": "2024-08-07T10:28:13.044285Z"
    }
   },
   "source": [
    "import requests\n",
    "from datetime import datetime"
   ],
   "outputs": [],
   "execution_count": 2
  },
  {
   "metadata": {
    "ExecuteTime": {
     "end_time": "2024-08-07T10:28:13.394777Z",
     "start_time": "2024-08-07T10:28:13.159288Z"
    }
   },
   "cell_type": "code",
   "source": [
    "url = 'http://www.racelink.cn/re/award/data'\n",
    "\n",
    "params = {\n",
    "    'year': '2023',\n",
    "    'page': 1,\n",
    "    'limit': 200,\n",
    "    'keyWord': '赵冬冬'\n",
    "}\n",
    "\n",
    "headers = {\n",
    "    'User-Agent':'Mozilla/5.0 (Windows NT 10.0; Win64; x64) AppleWebKit/537.36 (KHTML, like Gecko) Chrome/119.0.0.0 Safari/537.36',\n",
    "    'Cookie':'connect.sid=s%3AfgsM-30rdUaBH-H3TXlBifn0L2cWeztS.056YNcuXq04Eg2GfuZ1cdF7B5N8C79KzJnmvkAN7%2Fkk'\n",
    "}\n",
    "r = requests.get(url,headers=headers,params=params)\n",
    "\n",
    "data = r.json()['data']"
   ],
   "id": "ba1b8f0d2298a97f",
   "outputs": [],
   "execution_count": 3
  },
  {
   "metadata": {
    "ExecuteTime": {
     "end_time": "2024-08-07T10:28:13.425468Z",
     "start_time": "2024-08-07T10:28:13.401460Z"
    }
   },
   "cell_type": "code",
   "source": [
    "def date_between(start_date, end_date, target_date):\n",
    "    return start_date <= target_date <= end_date\n",
    "\n",
    "start = datetime(2023, 10, 1)\n",
    "end = datetime(2023, 12, 31)"
   ],
   "id": "76f3df04c59a7ec7",
   "outputs": [],
   "execution_count": 4
  },
  {
   "metadata": {
    "ExecuteTime": {
     "end_time": "2024-08-07T10:28:13.441469Z",
     "start_time": "2024-08-07T10:28:13.430470Z"
    }
   },
   "cell_type": "code",
   "source": [
    "import urllib.request\n",
    "\n",
    "def download_img(url,num,*args):\n",
    "    # 下载图片\n",
    "    request = urllib.request.Request(url, headers=headers)\n",
    "    response = urllib.request.urlopen(request)\n",
    "            # 获取的文本实际上是图片的二进制文\n",
    "    r = response.read()\n",
    "    \n",
    "    with open('./{}_{}.{}'.format(num,'_'.join(*args),url.split('.')[-1]), 'wb') as f:\n",
    "        f.write(r) # 将内容写入图片\n",
    "        print(\"done\")\n",
    "    del r"
   ],
   "id": "28c45661f3266b6e",
   "outputs": [],
   "execution_count": 5
  },
  {
   "metadata": {
    "ExecuteTime": {
     "end_time": "2024-08-07T10:28:13.471597Z",
     "start_time": "2024-08-07T10:28:13.444468Z"
    }
   },
   "cell_type": "code",
   "source": [
    "print(len(data))\n",
    "result = {\n",
    "    'date': [],\n",
    "    \n",
    "}\n",
    "num = 0\n",
    "for item in data:\n",
    "    date = item['yymm']\n",
    "    title = item['ma']['name']\n",
    "    mentor = item['mentor']\n",
    "    image = f\"http://www.racelink.cn/seeimage?name={item['image']}\"\n",
    "    name = item['name']\n",
    "    stage = item['stage']\n",
    "    if date_between(start, end, datetime.strptime(date, \"%Y-%m\")):\n",
    "        print(date,title,stage,name,image)\n",
    "        # download_img(image,num,(date,title,stage,name))\n",
    "        num += 1"
   ],
   "id": "3736ad434a4b1342",
   "outputs": [
    {
     "name": "stdout",
     "output_type": "stream",
     "text": [
      "91\n",
      "2023-12 ACM-ICPC国际大学生程序设计竞赛 国赛 一等奖 http://www.racelink.cn/seeimage?name=1702699482561.png\n",
      "2023-11 ACM-ICPC国际大学生程序设计竞赛 国赛 一等奖 http://www.racelink.cn/seeimage?name=1702543580942.png\n",
      "2023-10 ACM-ICPC国际大学生程序设计竞赛 国赛 二等奖 http://www.racelink.cn/seeimage?name=1702548765122.pdf\n",
      "2023-10 ACM-ICPC国际大学生程序设计竞赛 国赛 三等奖 http://www.racelink.cn/seeimage?name=1702544013957.png\n",
      "2023-12 ACM-ICPC国际大学生程序设计竞赛 国赛 三等奖 http://www.racelink.cn/seeimage?name=1702789144037.docx\n",
      "2023-10 ACM-ICPC国际大学生程序设计竞赛 国赛 三等奖 http://www.racelink.cn/seeimage?name=1702624312855.png\n",
      "2023-11 ACM-ICPC国际大学生程序设计竞赛 国赛 三等奖 http://www.racelink.cn/seeimage?name=1702620096732.png\n",
      "2023-11 ACM-ICPC国际大学生程序设计竞赛 国赛 三等奖 http://www.racelink.cn/seeimage?name=1702550098021.pdf\n",
      "2023-11 ACM-ICPC国际大学生程序设计竞赛 国赛 三等奖 http://www.racelink.cn/seeimage?name=1702553124401.png\n",
      "2023-11 ACM-ICPC国际大学生程序设计竞赛 国赛 三等奖 http://www.racelink.cn/seeimage?name=1702543361622.png\n",
      "2023-10 中国大学生程序设计竞赛 省赛 一等奖 http://www.racelink.cn/seeimage?name=1702544629776.jpg\n",
      "2023-10 中国大学生程序设计竞赛 省赛 三等奖 http://www.racelink.cn/seeimage?name=1702623850588.jpeg\n",
      "2023-10 中国大学生程序设计竞赛 省赛 三等奖 http://www.racelink.cn/seeimage?name=1702543059101.jpg\n"
     ]
    }
   ],
   "execution_count": 6
  },
  {
   "metadata": {
    "ExecuteTime": {
     "end_time": "2024-08-07T10:28:13.487112Z",
     "start_time": "2024-08-07T10:28:13.473132Z"
    }
   },
   "cell_type": "code",
   "source": "",
   "id": "f900112e45ffdfde",
   "outputs": [],
   "execution_count": 6
  }
 ],
 "metadata": {
  "kernelspec": {
   "display_name": "Python 3",
   "language": "python",
   "name": "python3"
  },
  "language_info": {
   "codemirror_mode": {
    "name": "ipython",
    "version": 2
   },
   "file_extension": ".py",
   "mimetype": "text/x-python",
   "name": "python",
   "nbconvert_exporter": "python",
   "pygments_lexer": "ipython2",
   "version": "2.7.6"
  }
 },
 "nbformat": 4,
 "nbformat_minor": 5
}
